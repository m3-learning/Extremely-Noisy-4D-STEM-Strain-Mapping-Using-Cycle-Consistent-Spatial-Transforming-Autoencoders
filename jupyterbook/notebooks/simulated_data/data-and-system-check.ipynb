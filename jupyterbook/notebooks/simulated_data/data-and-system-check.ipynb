{
 "cells": [
  {
   "cell_type": "markdown",
   "metadata": {},
   "source": [
    "# System Configuration and Data Download"
   ]
  },
  {
   "cell_type": "markdown",
   "metadata": {},
   "source": [
    "## Import Packages"
   ]
  },
  {
   "cell_type": "code",
   "execution_count": 1,
   "metadata": {},
   "outputs": [],
   "source": [
    "import os\n",
    "import torch\n",
    "from m3util.util.IO import download_files_from_txt\n",
    "import subprocess\n",
    "from IPython.display import Markdown"
   ]
  },
  {
   "cell_type": "markdown",
   "metadata": {},
   "source": [
    "## GPU Settings\n",
    "\n",
    "The notebook is designed to run on a system with a GPU accelerator this code will check is a GPU is available. "
   ]
  },
  {
   "cell_type": "code",
   "execution_count": 2,
   "metadata": {},
   "outputs": [
    {
     "data": {
      "text/markdown": [
       "```\n",
       "Wed Jun  4 11:05:45 2025       \n",
       "+-----------------------------------------------------------------------------------------+\n",
       "| NVIDIA-SMI 570.153.02             Driver Version: 570.153.02     CUDA Version: 12.8     |\n",
       "|-----------------------------------------+------------------------+----------------------+\n",
       "| GPU  Name                 Persistence-M | Bus-Id          Disp.A | Volatile Uncorr. ECC |\n",
       "| Fan  Temp   Perf          Pwr:Usage/Cap |           Memory-Usage | GPU-Util  Compute M. |\n",
       "|                                         |                        |               MIG M. |\n",
       "|=========================================+========================+======================|\n",
       "|   0  NVIDIA RTX A6000               On  |   00000000:01:00.0 Off |                  Off |\n",
       "| 30%   31C    P8             23W /  300W |      18MiB /  49140MiB |      0%      Default |\n",
       "|                                         |                        |                  N/A |\n",
       "+-----------------------------------------+------------------------+----------------------+\n",
       "|   1  NVIDIA RTX A6000               On  |   00000000:23:00.0 Off |                  Off |\n",
       "| 30%   32C    P8             29W /  300W |      18MiB /  49140MiB |      0%      Default |\n",
       "|                                         |                        |                  N/A |\n",
       "+-----------------------------------------+------------------------+----------------------+\n",
       "|   2  NVIDIA RTX A6000               On  |   00000000:41:00.0 Off |                  Off |\n",
       "| 30%   31C    P8             37W /  300W |      18MiB /  49140MiB |      0%      Default |\n",
       "|                                         |                        |                  N/A |\n",
       "+-----------------------------------------+------------------------+----------------------+\n",
       "|   3  NVIDIA RTX A6000               On  |   00000000:61:00.0 Off |                  Off |\n",
       "| 30%   27C    P8             12W /  300W |   24657MiB /  49140MiB |      0%      Default |\n",
       "|                                         |                        |                  N/A |\n",
       "+-----------------------------------------+------------------------+----------------------+\n",
       "|   4  NVIDIA RTX A6000               On  |   00000000:81:00.0 Off |                  Off |\n",
       "| 30%   28C    P8             14W /  300W |      18MiB /  49140MiB |      0%      Default |\n",
       "|                                         |                        |                  N/A |\n",
       "+-----------------------------------------+------------------------+----------------------+\n",
       "|   5  NVIDIA RTX A6000               On  |   00000000:A1:00.0 Off |                  Off |\n",
       "| 30%   31C    P8             24W /  300W |     645MiB /  49140MiB |      0%      Default |\n",
       "|                                         |                        |                  N/A |\n",
       "+-----------------------------------------+------------------------+----------------------+\n",
       "|   6  NVIDIA RTX A6000               On  |   00000000:C1:00.0 Off |                  Off |\n",
       "| 30%   32C    P8             23W /  300W |      18MiB /  49140MiB |      0%      Default |\n",
       "|                                         |                        |                  N/A |\n",
       "+-----------------------------------------+------------------------+----------------------+\n",
       "|   7  NVIDIA RTX A6000               On  |   00000000:E1:00.0 Off |                  Off |\n",
       "| 30%   32C    P8             27W /  300W |      18MiB /  49140MiB |      0%      Default |\n",
       "|                                         |                        |                  N/A |\n",
       "+-----------------------------------------+------------------------+----------------------+\n",
       "                                                                                         \n",
       "+-----------------------------------------------------------------------------------------+\n",
       "| Processes:                                                                              |\n",
       "|  GPU   GI   CI              PID   Type   Process name                        GPU Memory |\n",
       "|        ID   ID                                                               Usage      |\n",
       "|=========================================================================================|\n",
       "|    0   N/A  N/A            4838      G   /usr/lib/xorg/Xorg                        4MiB |\n",
       "|    1   N/A  N/A            4838      G   /usr/lib/xorg/Xorg                        4MiB |\n",
       "|    2   N/A  N/A            4838      G   /usr/lib/xorg/Xorg                        4MiB |\n",
       "|    3   N/A  N/A            4838      G   /usr/lib/xorg/Xorg                        4MiB |\n",
       "|    3   N/A  N/A          127396      C   ...vs/TransformerVAE6/bin/python      24634MiB |\n",
       "|    4   N/A  N/A            4838      G   /usr/lib/xorg/Xorg                        4MiB |\n",
       "|    5   N/A  N/A            4838      G   /usr/lib/xorg/Xorg                        4MiB |\n",
       "|    5   N/A  N/A          208663      C   ...s/gaussian-sampler/bin/python        622MiB |\n",
       "|    6   N/A  N/A            4838      G   /usr/lib/xorg/Xorg                        4MiB |\n",
       "|    7   N/A  N/A            4838      G   /usr/lib/xorg/Xorg                        4MiB |\n",
       "+-----------------------------------------------------------------------------------------+\n",
       "\n",
       "```"
      ],
      "text/plain": [
       "<IPython.core.display.Markdown object>"
      ]
     },
     "execution_count": 2,
     "metadata": {},
     "output_type": "execute_result"
    }
   ],
   "source": [
    "output = subprocess.check_output(['nvidia-smi']).decode()\n",
    "Markdown(f'```\\n{output}\\n```')"
   ]
  },
  {
   "cell_type": "markdown",
   "metadata": {},
   "source": [
    "Selects the GPU device to use. "
   ]
  },
  {
   "cell_type": "code",
   "execution_count": 3,
   "metadata": {},
   "outputs": [
    {
     "name": "stdout",
     "output_type": "stream",
     "text": [
      "Current CUDA device index: 0\n"
     ]
    }
   ],
   "source": [
    "# you can change the device number to the one you want to use\n",
    "device_number = 0\n",
    "\n",
    "device = torch.device(f\"cuda:{device_number}\" if torch.cuda.is_available() else \"cpu\")\n",
    "torch.cuda.set_device(device) \n",
    "print(\"Current CUDA device index:\", torch.cuda.current_device())"
   ]
  },
  {
   "cell_type": "markdown",
   "metadata": {},
   "source": [
    "## Download Data and Pre-Trained Models"
   ]
  },
  {
   "cell_type": "code",
   "execution_count": 4,
   "metadata": {},
   "outputs": [
    {
     "data": {
      "application/vnd.jupyter.widget-view+json": {
       "model_id": "b8e5310af9ab43fd84f70e889e8c4c35",
       "version_major": 2,
       "version_minor": 0
      },
      "text/plain": [
       "  0%|          | 0/72 [00:00<?, ?it/s]"
      ]
     },
     "metadata": {},
     "output_type": "display_data"
    },
    {
     "name": "stdout",
     "output_type": "stream",
     "text": [
      "File already exists: 40percent_noisy_simulated_4dstem_pretrained_weights.pkl\n",
      "File already exists: 45percent_noisy_simulated_4dstem_pretrained_weights.pkl\n",
      "File already exists: 60Percent_pretrained_rotation.npy\n",
      "File already exists: analysis_bg50per_1e5counts__strain.h5\n",
      "File already exists: 25percent_noisy_simulated_4dstem_pretrained_weights.pkl\n",
      "File already exists: 20Percent_pretrained_rotation.npy\n",
      "File already exists: Label_shear_xy.npy\n",
      "File already exists: Label_strain_yy.npy\n",
      "File already exists: 25Percent_pretrained_rotation.npy\n",
      "File already exists: 10percent_noisy_simulated_4dstem_pretrained_weights.pkl\n",
      "File already exists: 30percent_noisy_simulated_4dstem_pretrained_weights.pkl\n",
      "File already exists: analysis_bg40per_1e5counts__strain.h5\n",
      "File already exists: 05percent_noisy_simulated_4dstem_pretrained_weights.pkl\n",
      "File already exists: 70percent_noisy_simulated_4dstem_pretrained_weights.pkl\n",
      "File already exists: analysis_bg45per_1e5counts__strain.h5\n",
      "File already exists: 00percent_noisy_simulated_4dstem_pretrained_weights.pkl\n",
      "File already exists: 60percent_noisy_simulated_4dstem_pretrained_weights.pkl\n",
      "File already exists: 35percent_noisy_simulated_4dstem_pretrained_weights.pkl\n",
      "File already exists: 00Percent_pretrained_rotation.npy\n",
      "File already exists: analysis_bg20per_1e5counts__strain.h5\n",
      "File already exists: 20percent_noisy_simulated_4dstem_pretrained_weights.pkl\n",
      "File already exists: 50percent_noisy_simulated_4dstem_pretrained_weights.pkl\n",
      "File already exists: analysis_bg60per_1e5counts__strain.h5\n",
      "File already exists: analysis_bg70per_1e5counts__strain.h5\n",
      "File already exists: 70Percent_pretrained_rotation.npy\n",
      "File already exists: 45Percent_pretrained_rotation.npy\n",
      "File already exists: analysis_bg05per_1e5counts__strain.h5\n",
      "File already exists: analysis_bg15per_1e5counts__strain.h5\n",
      "File already exists: 15Percent_pretrained_rotation.npy\n",
      "File already exists: analysis_bg00per_1e5counts__strain.h5\n",
      "File already exists: analysis_bg30per_1e5counts__strain.h5\n",
      "File already exists: analysis_bg25per_1e5counts__strain.h5\n",
      "File already exists: Label_rotation.npy\n",
      "File already exists: 15percent_noisy_simulated_4dstem_pretrained_weights.pkl\n",
      "File already exists: 10Percent_pretrained_rotation.npy\n",
      "File already exists: 40Percent_pretrained_rotation.npy\n",
      "File already exists: 30Percent_pretrained_rotation.npy\n",
      "File already exists: 05Percent_pretrained_rotation.npy\n",
      "File already exists: 35Percent_pretrained_rotation.npy\n",
      "File already exists: analysis_bg10per_1e5counts__strain.h5\n",
      "File already exists: 50Percent_pretrained_rotation.npy\n",
      "File already exists: analysis_bg35per_1e5counts__strain.h5\n",
      "File already exists: Label_strain_xx.npy\n",
      "File already exists: 45Per_2_train_process_scale_shear.npy\n",
      "File already exists: 60Per_2_train_process_scale_shear.npy\n",
      "File already exists: 30Per_2_train_process_scale_shear.npy\n",
      "File already exists: 40Per_2_train_process_rotation.npy\n",
      "File already exists: 10Per_2_train_process_scale_shear.npy\n",
      "File already exists: 20Per_2_train_process_scale_shear.npy\n",
      "File already exists: 30Per_2_train_process_rotation.npy\n",
      "File already exists: 05Per_2_train_process_scale_shear.npy\n",
      "File already exists: 05Per_2_train_process_rotation.npy\n",
      "File already exists: 25Per_2_train_process_rotation.npy\n",
      "File already exists: 45Per_2_train_process_rotation.npy\n",
      "File already exists: 35Per_2_train_process_scale_shear.npy\n",
      "File already exists: 50Per_2_train_process_scale_shear.npy\n",
      "File already exists: 70Per_2_train_process_scale_shear.npy\n",
      "File already exists: 00Per_2_train_process_rotation.npy\n",
      "File already exists: 10Per_2_train_process_rotation.npy\n",
      "File already exists: 00Per_2_train_process_scale_shear.npy\n",
      "File already exists: 20Per_2_train_process_rotation.npy\n",
      "File already exists: 15Per_2_train_process_rotation.npy\n",
      "File already exists: 35Per_2_train_process_rotation.npy\n",
      "File already exists: 15Per_2_train_process_scale_shear.npy\n",
      "File already exists: 25Per_2_train_process_scale_shear.npy\n",
      "File already exists: 40Per_2_train_process_scale_shear.npy\n",
      "Rate limit reached, waiting to retry...\n",
      "Rate limit reached, waiting to retry...\n",
      "Rate limit reached, waiting to retry...\n",
      "Rate limit reached, waiting to retry...\n",
      "Rate limit reached, waiting to retry...\n",
      "File already exists: 50Per_2_train_process_rotation.npy\n",
      "File already exists: 60Per_2_train_process_rotation.npy\n",
      "File already exists: 70Per_2_train_process_rotation.npy\n",
      "File already exists: simulated_4dstem_grain_index.npy\n",
      "File already exists: MAE_list_simulated_4dstem.pickle\n",
      "File already exists: polycrystal_output4D.mat\n"
     ]
    }
   ],
   "source": [
    "data_path = os.path.abspath('./data/simulated_4dstem/')\n",
    "file_download = f\"{data_path}/simulated_data_urls.txt\"\n",
    "\n",
    "# check where are you from the root path\n",
    "download_files_from_txt(file_download, data_path)"
   ]
  }
 ],
 "metadata": {
  "kernelspec": {
   "display_name": "Python 3",
   "language": "python",
   "name": "python3"
  },
  "language_info": {
   "codemirror_mode": {
    "name": "ipython",
    "version": 3
   },
   "file_extension": ".py",
   "mimetype": "text/x-python",
   "name": "python",
   "nbconvert_exporter": "python",
   "pygments_lexer": "ipython3",
   "version": "3.11.11"
  }
 },
 "nbformat": 4,
 "nbformat_minor": 2
}
